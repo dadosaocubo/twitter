{
  "nbformat": 4,
  "nbformat_minor": 0,
  "metadata": {
    "colab": {
      "name": "twitter.ipynb",
      "provenance": []
    },
    "kernelspec": {
      "name": "python3",
      "display_name": "Python 3"
    },
    "language_info": {
      "name": "python"
    }
  },
  "cells": [
    {
      "cell_type": "markdown",
      "metadata": {
        "id": "a3axBiKmvi7U"
      },
      "source": [
        "# Extraindo Dados do Twitter com Python\n"
      ]
    },
    {
      "cell_type": "markdown",
      "metadata": {
        "id": "f08VMILS0eMu"
      },
      "source": [
        "Uma aplicação para monitorar os principais resultados do Twitter e seu devido volume na rede social ao longo do tempo. O objetivo é saber as principais tendências e o que estão falando sobre o assunto."
      ]
    },
    {
      "cell_type": "markdown",
      "metadata": {
        "id": "mrxpxojgvzjJ"
      },
      "source": [
        "+ [Search Tweets](https://developer.twitter.com/en/docs/twitter-api/v1/tweets/search/api-reference/get-search-tweets#)\n",
        "+ [Buscando tweets com Python](https://www.alura.com.br/artigos/buscando-tweets-com-python)"
      ]
    },
    {
      "cell_type": "code",
      "metadata": {
        "colab": {
          "base_uri": "https://localhost:8080/"
        },
        "id": "Qt8Fhx-z_uBg",
        "outputId": "703dff0f-10ca-418d-a408-b71138bcb26c"
      },
      "source": [
        "!pip install geocoder"
      ],
      "execution_count": 17,
      "outputs": [
        {
          "output_type": "stream",
          "name": "stdout",
          "text": [
            "Requirement already satisfied: geocoder in /usr/local/lib/python3.7/dist-packages (1.38.1)\n",
            "Requirement already satisfied: six in /usr/local/lib/python3.7/dist-packages (from geocoder) (1.15.0)\n",
            "Requirement already satisfied: click in /usr/local/lib/python3.7/dist-packages (from geocoder) (7.1.2)\n",
            "Requirement already satisfied: future in /usr/local/lib/python3.7/dist-packages (from geocoder) (0.16.0)\n",
            "Requirement already satisfied: requests in /usr/local/lib/python3.7/dist-packages (from geocoder) (2.23.0)\n",
            "Requirement already satisfied: ratelim in /usr/local/lib/python3.7/dist-packages (from geocoder) (0.1.6)\n",
            "Requirement already satisfied: decorator in /usr/local/lib/python3.7/dist-packages (from ratelim->geocoder) (4.4.2)\n",
            "Requirement already satisfied: idna<3,>=2.5 in /usr/local/lib/python3.7/dist-packages (from requests->geocoder) (2.10)\n",
            "Requirement already satisfied: certifi>=2017.4.17 in /usr/local/lib/python3.7/dist-packages (from requests->geocoder) (2021.10.8)\n",
            "Requirement already satisfied: chardet<4,>=3.0.2 in /usr/local/lib/python3.7/dist-packages (from requests->geocoder) (3.0.4)\n",
            "Requirement already satisfied: urllib3!=1.25.0,!=1.25.1,<1.26,>=1.21.1 in /usr/local/lib/python3.7/dist-packages (from requests->geocoder) (1.24.3)\n"
          ]
        }
      ]
    },
    {
      "cell_type": "markdown",
      "source": [
        "## Importando Bibliotecas"
      ],
      "metadata": {
        "id": "dCy-I3lt6_NE"
      }
    },
    {
      "cell_type": "code",
      "metadata": {
        "id": "rHN3nGuMvXq7"
      },
      "source": [
        "import geocoder\n",
        "import toml\n",
        "import tweepy\n",
        "import json\n",
        "import pandas as pd"
      ],
      "execution_count": 18,
      "outputs": []
    },
    {
      "cell_type": "markdown",
      "source": [
        "## Arquivo com as Chaves de Acesso ao Twitter"
      ],
      "metadata": {
        "id": "rS-Jy9PL8Da5"
      }
    },
    {
      "cell_type": "code",
      "metadata": {
        "id": "nMfiKIOZwOQ-"
      },
      "source": [
        "# abrir o arquivo com as credenciais de acesso\n",
        "with open('config.toml') as config:\n",
        "  # ler o arquivo e salvar as chaves nas variáveis\n",
        "  config = toml.loads(config.read())\n",
        "  APP_NAME = config['APP_NAME']\n",
        "  API_KEY = config['API_KEY']\n",
        "  API_KEY_SECRET = config['API_KEY_SECRET']\n",
        "  ACCESS_TOKEN = config['ACCESS_TOKEN']\n",
        "  ACCESS_TOKEN_SECRET = config['ACCESS_TOKEN_SECRET']"
      ],
      "execution_count": 19,
      "outputs": []
    },
    {
      "cell_type": "code",
      "source": [
        "APP_NAME"
      ],
      "metadata": {
        "colab": {
          "base_uri": "https://localhost:8080/",
          "height": 35
        },
        "id": "VXjcrGLh5ChV",
        "outputId": "778089e2-b9ef-43c1-85fe-80f844b89d52"
      },
      "execution_count": 20,
      "outputs": [
        {
          "output_type": "execute_result",
          "data": {
            "application/vnd.google.colaboratory.intrinsic+json": {
              "type": "string"
            },
            "text/plain": [
              "'TwitterAoCubo'"
            ]
          },
          "metadata": {},
          "execution_count": 20
        }
      ]
    },
    {
      "cell_type": "markdown",
      "source": [
        "## Autenticando no Twitter"
      ],
      "metadata": {
        "id": "4RGuy3qm8K48"
      }
    },
    {
      "cell_type": "code",
      "metadata": {
        "id": "2TxnHlurwONR"
      },
      "source": [
        "# função para autenticação do usuário\n",
        "auth = tweepy.OAuthHandler(API_KEY, API_KEY_SECRET)\n",
        "# função para acesso ao app com os tokens\n",
        "auth.set_access_token(ACCESS_TOKEN, ACCESS_TOKEN_SECRET)\n",
        "# autenticação na API do Twitter\n",
        "api = tweepy.API(auth)"
      ],
      "execution_count": 21,
      "outputs": []
    },
    {
      "cell_type": "markdown",
      "source": [
        "## Top Trends Twitter"
      ],
      "metadata": {
        "id": "iFsyJPeZ8Qtk"
      }
    },
    {
      "cell_type": "code",
      "metadata": {
        "colab": {
          "base_uri": "https://localhost:8080/",
          "height": 141
        },
        "id": "hv1czhn-5ewo",
        "outputId": "28e9a282-ce22-4d62-dbf6-b8970d0b8d9b"
      },
      "source": [
        "# Verificando as localizações disponíveis para o trends\n",
        "available_loc = api.trends_available()\n",
        "df = pd.json_normalize(available_loc)\n",
        "df.head(3)"
      ],
      "execution_count": 39,
      "outputs": [
        {
          "output_type": "execute_result",
          "data": {
            "text/html": [
              "\n",
              "  <div id=\"df-896cc8d4-f8d1-44a0-b4be-0c83c6bf8fb6\">\n",
              "    <div class=\"colab-df-container\">\n",
              "      <div>\n",
              "<style scoped>\n",
              "    .dataframe tbody tr th:only-of-type {\n",
              "        vertical-align: middle;\n",
              "    }\n",
              "\n",
              "    .dataframe tbody tr th {\n",
              "        vertical-align: top;\n",
              "    }\n",
              "\n",
              "    .dataframe thead th {\n",
              "        text-align: right;\n",
              "    }\n",
              "</style>\n",
              "<table border=\"1\" class=\"dataframe\">\n",
              "  <thead>\n",
              "    <tr style=\"text-align: right;\">\n",
              "      <th></th>\n",
              "      <th>name</th>\n",
              "      <th>url</th>\n",
              "      <th>parentid</th>\n",
              "      <th>country</th>\n",
              "      <th>woeid</th>\n",
              "      <th>countryCode</th>\n",
              "      <th>placeType.code</th>\n",
              "      <th>placeType.name</th>\n",
              "    </tr>\n",
              "  </thead>\n",
              "  <tbody>\n",
              "    <tr>\n",
              "      <th>0</th>\n",
              "      <td>Worldwide</td>\n",
              "      <td>http://where.yahooapis.com/v1/place/1</td>\n",
              "      <td>0</td>\n",
              "      <td></td>\n",
              "      <td>1</td>\n",
              "      <td>None</td>\n",
              "      <td>19</td>\n",
              "      <td>Supername</td>\n",
              "    </tr>\n",
              "    <tr>\n",
              "      <th>1</th>\n",
              "      <td>Winnipeg</td>\n",
              "      <td>http://where.yahooapis.com/v1/place/2972</td>\n",
              "      <td>23424775</td>\n",
              "      <td>Canada</td>\n",
              "      <td>2972</td>\n",
              "      <td>CA</td>\n",
              "      <td>7</td>\n",
              "      <td>Town</td>\n",
              "    </tr>\n",
              "    <tr>\n",
              "      <th>2</th>\n",
              "      <td>Ottawa</td>\n",
              "      <td>http://where.yahooapis.com/v1/place/3369</td>\n",
              "      <td>23424775</td>\n",
              "      <td>Canada</td>\n",
              "      <td>3369</td>\n",
              "      <td>CA</td>\n",
              "      <td>7</td>\n",
              "      <td>Town</td>\n",
              "    </tr>\n",
              "  </tbody>\n",
              "</table>\n",
              "</div>\n",
              "      <button class=\"colab-df-convert\" onclick=\"convertToInteractive('df-896cc8d4-f8d1-44a0-b4be-0c83c6bf8fb6')\"\n",
              "              title=\"Convert this dataframe to an interactive table.\"\n",
              "              style=\"display:none;\">\n",
              "        \n",
              "  <svg xmlns=\"http://www.w3.org/2000/svg\" height=\"24px\"viewBox=\"0 0 24 24\"\n",
              "       width=\"24px\">\n",
              "    <path d=\"M0 0h24v24H0V0z\" fill=\"none\"/>\n",
              "    <path d=\"M18.56 5.44l.94 2.06.94-2.06 2.06-.94-2.06-.94-.94-2.06-.94 2.06-2.06.94zm-11 1L8.5 8.5l.94-2.06 2.06-.94-2.06-.94L8.5 2.5l-.94 2.06-2.06.94zm10 10l.94 2.06.94-2.06 2.06-.94-2.06-.94-.94-2.06-.94 2.06-2.06.94z\"/><path d=\"M17.41 7.96l-1.37-1.37c-.4-.4-.92-.59-1.43-.59-.52 0-1.04.2-1.43.59L10.3 9.45l-7.72 7.72c-.78.78-.78 2.05 0 2.83L4 21.41c.39.39.9.59 1.41.59.51 0 1.02-.2 1.41-.59l7.78-7.78 2.81-2.81c.8-.78.8-2.07 0-2.86zM5.41 20L4 18.59l7.72-7.72 1.47 1.35L5.41 20z\"/>\n",
              "  </svg>\n",
              "      </button>\n",
              "      \n",
              "  <style>\n",
              "    .colab-df-container {\n",
              "      display:flex;\n",
              "      flex-wrap:wrap;\n",
              "      gap: 12px;\n",
              "    }\n",
              "\n",
              "    .colab-df-convert {\n",
              "      background-color: #E8F0FE;\n",
              "      border: none;\n",
              "      border-radius: 50%;\n",
              "      cursor: pointer;\n",
              "      display: none;\n",
              "      fill: #1967D2;\n",
              "      height: 32px;\n",
              "      padding: 0 0 0 0;\n",
              "      width: 32px;\n",
              "    }\n",
              "\n",
              "    .colab-df-convert:hover {\n",
              "      background-color: #E2EBFA;\n",
              "      box-shadow: 0px 1px 2px rgba(60, 64, 67, 0.3), 0px 1px 3px 1px rgba(60, 64, 67, 0.15);\n",
              "      fill: #174EA6;\n",
              "    }\n",
              "\n",
              "    [theme=dark] .colab-df-convert {\n",
              "      background-color: #3B4455;\n",
              "      fill: #D2E3FC;\n",
              "    }\n",
              "\n",
              "    [theme=dark] .colab-df-convert:hover {\n",
              "      background-color: #434B5C;\n",
              "      box-shadow: 0px 1px 3px 1px rgba(0, 0, 0, 0.15);\n",
              "      filter: drop-shadow(0px 1px 2px rgba(0, 0, 0, 0.3));\n",
              "      fill: #FFFFFF;\n",
              "    }\n",
              "  </style>\n",
              "\n",
              "      <script>\n",
              "        const buttonEl =\n",
              "          document.querySelector('#df-896cc8d4-f8d1-44a0-b4be-0c83c6bf8fb6 button.colab-df-convert');\n",
              "        buttonEl.style.display =\n",
              "          google.colab.kernel.accessAllowed ? 'block' : 'none';\n",
              "\n",
              "        async function convertToInteractive(key) {\n",
              "          const element = document.querySelector('#df-896cc8d4-f8d1-44a0-b4be-0c83c6bf8fb6');\n",
              "          const dataTable =\n",
              "            await google.colab.kernel.invokeFunction('convertToInteractive',\n",
              "                                                     [key], {});\n",
              "          if (!dataTable) return;\n",
              "\n",
              "          const docLinkHtml = 'Like what you see? Visit the ' +\n",
              "            '<a target=\"_blank\" href=https://colab.research.google.com/notebooks/data_table.ipynb>data table notebook</a>'\n",
              "            + ' to learn more about interactive tables.';\n",
              "          element.innerHTML = '';\n",
              "          dataTable['output_type'] = 'display_data';\n",
              "          await google.colab.output.renderOutput(dataTable, element);\n",
              "          const docLink = document.createElement('div');\n",
              "          docLink.innerHTML = docLinkHtml;\n",
              "          element.appendChild(docLink);\n",
              "        }\n",
              "      </script>\n",
              "    </div>\n",
              "  </div>\n",
              "  "
            ],
            "text/plain": [
              "        name  ... placeType.name\n",
              "0  Worldwide  ...      Supername\n",
              "1   Winnipeg  ...           Town\n",
              "2     Ottawa  ...           Town\n",
              "\n",
              "[3 rows x 8 columns]"
            ]
          },
          "metadata": {},
          "execution_count": 39
        }
      ]
    },
    {
      "cell_type": "code",
      "metadata": {
        "colab": {
          "base_uri": "https://localhost:8080/",
          "height": 538
        },
        "id": "UGnSAJ4Z5ete",
        "outputId": "dbd8462d-0b49-41fa-fec1-1540e4d68e61"
      },
      "source": [
        "# Filtrando Brasil nas localizações disponíveis\n",
        "df.query('country == \"Brazil\"')"
      ],
      "execution_count": 30,
      "outputs": [
        {
          "output_type": "execute_result",
          "data": {
            "text/html": [
              "\n",
              "  <div id=\"df-bbde77f0-073d-41e2-9860-ef72205c78a1\">\n",
              "    <div class=\"colab-df-container\">\n",
              "      <div>\n",
              "<style scoped>\n",
              "    .dataframe tbody tr th:only-of-type {\n",
              "        vertical-align: middle;\n",
              "    }\n",
              "\n",
              "    .dataframe tbody tr th {\n",
              "        vertical-align: top;\n",
              "    }\n",
              "\n",
              "    .dataframe thead th {\n",
              "        text-align: right;\n",
              "    }\n",
              "</style>\n",
              "<table border=\"1\" class=\"dataframe\">\n",
              "  <thead>\n",
              "    <tr style=\"text-align: right;\">\n",
              "      <th></th>\n",
              "      <th>name</th>\n",
              "      <th>url</th>\n",
              "      <th>parentid</th>\n",
              "      <th>country</th>\n",
              "      <th>woeid</th>\n",
              "      <th>countryCode</th>\n",
              "      <th>placeType.code</th>\n",
              "      <th>placeType.name</th>\n",
              "    </tr>\n",
              "  </thead>\n",
              "  <tbody>\n",
              "    <tr>\n",
              "      <th>78</th>\n",
              "      <td>Brasília</td>\n",
              "      <td>http://where.yahooapis.com/v1/place/455819</td>\n",
              "      <td>23424768</td>\n",
              "      <td>Brazil</td>\n",
              "      <td>455819</td>\n",
              "      <td>BR</td>\n",
              "      <td>7</td>\n",
              "      <td>Town</td>\n",
              "    </tr>\n",
              "    <tr>\n",
              "      <th>79</th>\n",
              "      <td>Belém</td>\n",
              "      <td>http://where.yahooapis.com/v1/place/455820</td>\n",
              "      <td>23424768</td>\n",
              "      <td>Brazil</td>\n",
              "      <td>455820</td>\n",
              "      <td>BR</td>\n",
              "      <td>7</td>\n",
              "      <td>Town</td>\n",
              "    </tr>\n",
              "    <tr>\n",
              "      <th>80</th>\n",
              "      <td>Belo Horizonte</td>\n",
              "      <td>http://where.yahooapis.com/v1/place/455821</td>\n",
              "      <td>23424768</td>\n",
              "      <td>Brazil</td>\n",
              "      <td>455821</td>\n",
              "      <td>BR</td>\n",
              "      <td>7</td>\n",
              "      <td>Town</td>\n",
              "    </tr>\n",
              "    <tr>\n",
              "      <th>81</th>\n",
              "      <td>Curitiba</td>\n",
              "      <td>http://where.yahooapis.com/v1/place/455822</td>\n",
              "      <td>23424768</td>\n",
              "      <td>Brazil</td>\n",
              "      <td>455822</td>\n",
              "      <td>BR</td>\n",
              "      <td>7</td>\n",
              "      <td>Town</td>\n",
              "    </tr>\n",
              "    <tr>\n",
              "      <th>82</th>\n",
              "      <td>Porto Alegre</td>\n",
              "      <td>http://where.yahooapis.com/v1/place/455823</td>\n",
              "      <td>23424768</td>\n",
              "      <td>Brazil</td>\n",
              "      <td>455823</td>\n",
              "      <td>BR</td>\n",
              "      <td>7</td>\n",
              "      <td>Town</td>\n",
              "    </tr>\n",
              "    <tr>\n",
              "      <th>83</th>\n",
              "      <td>Recife</td>\n",
              "      <td>http://where.yahooapis.com/v1/place/455824</td>\n",
              "      <td>23424768</td>\n",
              "      <td>Brazil</td>\n",
              "      <td>455824</td>\n",
              "      <td>BR</td>\n",
              "      <td>7</td>\n",
              "      <td>Town</td>\n",
              "    </tr>\n",
              "    <tr>\n",
              "      <th>84</th>\n",
              "      <td>Rio de Janeiro</td>\n",
              "      <td>http://where.yahooapis.com/v1/place/455825</td>\n",
              "      <td>23424768</td>\n",
              "      <td>Brazil</td>\n",
              "      <td>455825</td>\n",
              "      <td>BR</td>\n",
              "      <td>7</td>\n",
              "      <td>Town</td>\n",
              "    </tr>\n",
              "    <tr>\n",
              "      <th>85</th>\n",
              "      <td>Salvador</td>\n",
              "      <td>http://where.yahooapis.com/v1/place/455826</td>\n",
              "      <td>23424768</td>\n",
              "      <td>Brazil</td>\n",
              "      <td>455826</td>\n",
              "      <td>BR</td>\n",
              "      <td>7</td>\n",
              "      <td>Town</td>\n",
              "    </tr>\n",
              "    <tr>\n",
              "      <th>86</th>\n",
              "      <td>São Paulo</td>\n",
              "      <td>http://where.yahooapis.com/v1/place/455827</td>\n",
              "      <td>23424768</td>\n",
              "      <td>Brazil</td>\n",
              "      <td>455827</td>\n",
              "      <td>BR</td>\n",
              "      <td>7</td>\n",
              "      <td>Town</td>\n",
              "    </tr>\n",
              "    <tr>\n",
              "      <th>87</th>\n",
              "      <td>Campinas</td>\n",
              "      <td>http://where.yahooapis.com/v1/place/455828</td>\n",
              "      <td>23424768</td>\n",
              "      <td>Brazil</td>\n",
              "      <td>455828</td>\n",
              "      <td>BR</td>\n",
              "      <td>7</td>\n",
              "      <td>Town</td>\n",
              "    </tr>\n",
              "    <tr>\n",
              "      <th>88</th>\n",
              "      <td>Fortaleza</td>\n",
              "      <td>http://where.yahooapis.com/v1/place/455830</td>\n",
              "      <td>23424768</td>\n",
              "      <td>Brazil</td>\n",
              "      <td>455830</td>\n",
              "      <td>BR</td>\n",
              "      <td>7</td>\n",
              "      <td>Town</td>\n",
              "    </tr>\n",
              "    <tr>\n",
              "      <th>89</th>\n",
              "      <td>Goiânia</td>\n",
              "      <td>http://where.yahooapis.com/v1/place/455831</td>\n",
              "      <td>23424768</td>\n",
              "      <td>Brazil</td>\n",
              "      <td>455831</td>\n",
              "      <td>BR</td>\n",
              "      <td>7</td>\n",
              "      <td>Town</td>\n",
              "    </tr>\n",
              "    <tr>\n",
              "      <th>90</th>\n",
              "      <td>Manaus</td>\n",
              "      <td>http://where.yahooapis.com/v1/place/455833</td>\n",
              "      <td>23424768</td>\n",
              "      <td>Brazil</td>\n",
              "      <td>455833</td>\n",
              "      <td>BR</td>\n",
              "      <td>7</td>\n",
              "      <td>Town</td>\n",
              "    </tr>\n",
              "    <tr>\n",
              "      <th>91</th>\n",
              "      <td>São Luís</td>\n",
              "      <td>http://where.yahooapis.com/v1/place/455834</td>\n",
              "      <td>23424768</td>\n",
              "      <td>Brazil</td>\n",
              "      <td>455834</td>\n",
              "      <td>BR</td>\n",
              "      <td>7</td>\n",
              "      <td>Town</td>\n",
              "    </tr>\n",
              "    <tr>\n",
              "      <th>92</th>\n",
              "      <td>Guarulhos</td>\n",
              "      <td>http://where.yahooapis.com/v1/place/455867</td>\n",
              "      <td>23424768</td>\n",
              "      <td>Brazil</td>\n",
              "      <td>455867</td>\n",
              "      <td>BR</td>\n",
              "      <td>7</td>\n",
              "      <td>Town</td>\n",
              "    </tr>\n",
              "    <tr>\n",
              "      <th>409</th>\n",
              "      <td>Brazil</td>\n",
              "      <td>http://where.yahooapis.com/v1/place/23424768</td>\n",
              "      <td>1</td>\n",
              "      <td>Brazil</td>\n",
              "      <td>23424768</td>\n",
              "      <td>BR</td>\n",
              "      <td>12</td>\n",
              "      <td>Country</td>\n",
              "    </tr>\n",
              "  </tbody>\n",
              "</table>\n",
              "</div>\n",
              "      <button class=\"colab-df-convert\" onclick=\"convertToInteractive('df-bbde77f0-073d-41e2-9860-ef72205c78a1')\"\n",
              "              title=\"Convert this dataframe to an interactive table.\"\n",
              "              style=\"display:none;\">\n",
              "        \n",
              "  <svg xmlns=\"http://www.w3.org/2000/svg\" height=\"24px\"viewBox=\"0 0 24 24\"\n",
              "       width=\"24px\">\n",
              "    <path d=\"M0 0h24v24H0V0z\" fill=\"none\"/>\n",
              "    <path d=\"M18.56 5.44l.94 2.06.94-2.06 2.06-.94-2.06-.94-.94-2.06-.94 2.06-2.06.94zm-11 1L8.5 8.5l.94-2.06 2.06-.94-2.06-.94L8.5 2.5l-.94 2.06-2.06.94zm10 10l.94 2.06.94-2.06 2.06-.94-2.06-.94-.94-2.06-.94 2.06-2.06.94z\"/><path d=\"M17.41 7.96l-1.37-1.37c-.4-.4-.92-.59-1.43-.59-.52 0-1.04.2-1.43.59L10.3 9.45l-7.72 7.72c-.78.78-.78 2.05 0 2.83L4 21.41c.39.39.9.59 1.41.59.51 0 1.02-.2 1.41-.59l7.78-7.78 2.81-2.81c.8-.78.8-2.07 0-2.86zM5.41 20L4 18.59l7.72-7.72 1.47 1.35L5.41 20z\"/>\n",
              "  </svg>\n",
              "      </button>\n",
              "      \n",
              "  <style>\n",
              "    .colab-df-container {\n",
              "      display:flex;\n",
              "      flex-wrap:wrap;\n",
              "      gap: 12px;\n",
              "    }\n",
              "\n",
              "    .colab-df-convert {\n",
              "      background-color: #E8F0FE;\n",
              "      border: none;\n",
              "      border-radius: 50%;\n",
              "      cursor: pointer;\n",
              "      display: none;\n",
              "      fill: #1967D2;\n",
              "      height: 32px;\n",
              "      padding: 0 0 0 0;\n",
              "      width: 32px;\n",
              "    }\n",
              "\n",
              "    .colab-df-convert:hover {\n",
              "      background-color: #E2EBFA;\n",
              "      box-shadow: 0px 1px 2px rgba(60, 64, 67, 0.3), 0px 1px 3px 1px rgba(60, 64, 67, 0.15);\n",
              "      fill: #174EA6;\n",
              "    }\n",
              "\n",
              "    [theme=dark] .colab-df-convert {\n",
              "      background-color: #3B4455;\n",
              "      fill: #D2E3FC;\n",
              "    }\n",
              "\n",
              "    [theme=dark] .colab-df-convert:hover {\n",
              "      background-color: #434B5C;\n",
              "      box-shadow: 0px 1px 3px 1px rgba(0, 0, 0, 0.15);\n",
              "      filter: drop-shadow(0px 1px 2px rgba(0, 0, 0, 0.3));\n",
              "      fill: #FFFFFF;\n",
              "    }\n",
              "  </style>\n",
              "\n",
              "      <script>\n",
              "        const buttonEl =\n",
              "          document.querySelector('#df-bbde77f0-073d-41e2-9860-ef72205c78a1 button.colab-df-convert');\n",
              "        buttonEl.style.display =\n",
              "          google.colab.kernel.accessAllowed ? 'block' : 'none';\n",
              "\n",
              "        async function convertToInteractive(key) {\n",
              "          const element = document.querySelector('#df-bbde77f0-073d-41e2-9860-ef72205c78a1');\n",
              "          const dataTable =\n",
              "            await google.colab.kernel.invokeFunction('convertToInteractive',\n",
              "                                                     [key], {});\n",
              "          if (!dataTable) return;\n",
              "\n",
              "          const docLinkHtml = 'Like what you see? Visit the ' +\n",
              "            '<a target=\"_blank\" href=https://colab.research.google.com/notebooks/data_table.ipynb>data table notebook</a>'\n",
              "            + ' to learn more about interactive tables.';\n",
              "          element.innerHTML = '';\n",
              "          dataTable['output_type'] = 'display_data';\n",
              "          await google.colab.output.renderOutput(dataTable, element);\n",
              "          const docLink = document.createElement('div');\n",
              "          docLink.innerHTML = docLinkHtml;\n",
              "          element.appendChild(docLink);\n",
              "        }\n",
              "      </script>\n",
              "    </div>\n",
              "  </div>\n",
              "  "
            ],
            "text/plain": [
              "               name  ... placeType.name\n",
              "78         Brasília  ...           Town\n",
              "79            Belém  ...           Town\n",
              "80   Belo Horizonte  ...           Town\n",
              "81         Curitiba  ...           Town\n",
              "82     Porto Alegre  ...           Town\n",
              "83           Recife  ...           Town\n",
              "84   Rio de Janeiro  ...           Town\n",
              "85         Salvador  ...           Town\n",
              "86        São Paulo  ...           Town\n",
              "87         Campinas  ...           Town\n",
              "88        Fortaleza  ...           Town\n",
              "89          Goiânia  ...           Town\n",
              "90           Manaus  ...           Town\n",
              "91         São Luís  ...           Town\n",
              "92        Guarulhos  ...           Town\n",
              "409          Brazil  ...        Country\n",
              "\n",
              "[16 rows x 8 columns]"
            ]
          },
          "metadata": {},
          "execution_count": 30
        }
      ]
    },
    {
      "cell_type": "code",
      "metadata": {
        "colab": {
          "base_uri": "https://localhost:8080/"
        },
        "id": "eAp45vQg8fp2",
        "outputId": "33bc78b7-a525-41b9-89a7-a2b626c3b60f"
      },
      "source": [
        "# Definindo a localização\n",
        "loc = geocoder.osm('Brazil')\n",
        "print(loc)"
      ],
      "execution_count": 46,
      "outputs": [
        {
          "output_type": "stream",
          "name": "stdout",
          "text": [
            "<[OK] Osm - Geocode [Brasil]>\n"
          ]
        }
      ]
    },
    {
      "cell_type": "code",
      "source": [
        "# Buscando o id da localização basedado na lat e long\n",
        "closest_loc = api.trends_closest(loc.lat,loc.lng)\n",
        "print(json.dumps(closest_loc,indent=1))"
      ],
      "metadata": {
        "colab": {
          "base_uri": "https://localhost:8080/"
        },
        "id": "YBi8CMTL_NPj",
        "outputId": "6a87e92e-5eee-4fea-a0c4-00470dfe4848"
      },
      "execution_count": 47,
      "outputs": [
        {
          "output_type": "stream",
          "name": "stdout",
          "text": [
            "[\n",
            " {\n",
            "  \"name\": \"Brazil\",\n",
            "  \"placeType\": {\n",
            "   \"code\": 12,\n",
            "   \"name\": \"Country\"\n",
            "  },\n",
            "  \"url\": \"http://where.yahooapis.com/v1/place/23424768\",\n",
            "  \"parentid\": 1,\n",
            "  \"country\": \"Brazil\",\n",
            "  \"woeid\": 23424768,\n",
            "  \"countryCode\": \"BR\"\n",
            " }\n",
            "]\n"
          ]
        }
      ]
    },
    {
      "cell_type": "code",
      "metadata": {
        "id": "W99TfJyE-pAW"
      },
      "source": [
        "# Montando dataset do Top trends da localização informada\n",
        "trends  = api.trends_place(closest_loc[0][\"woeid\"])"
      ],
      "execution_count": 48,
      "outputs": []
    },
    {
      "cell_type": "code",
      "metadata": {
        "colab": {
          "base_uri": "https://localhost:8080/"
        },
        "id": "CPzmuUM7Dbnd",
        "outputId": "fbebe403-32e0-4f28-8845-1357cefb26d6"
      },
      "source": [
        "# Verificando os dados das Top trends selecionadas\n",
        "print('Data:',trends[0]['as_of'])\n",
        "print('Data Trend:',trends[0]['created_at'])\n",
        "print('Location:',trends[0]['locations'][0]['name'])"
      ],
      "execution_count": 49,
      "outputs": [
        {
          "output_type": "stream",
          "name": "stdout",
          "text": [
            "Data: 2021-12-28T12:23:17Z\n",
            "Data Trend: 2021-12-26T11:40:20Z\n",
            "Location: Brazil\n"
          ]
        }
      ]
    },
    {
      "cell_type": "code",
      "metadata": {
        "colab": {
          "base_uri": "https://localhost:8080/",
          "height": 202
        },
        "id": "GIdtnIm48f7c",
        "outputId": "8016b124-32b8-45c2-e9fa-8a21718e491b"
      },
      "source": [
        "# Exibindo os Top Trends Brasil\n",
        "df_trends = pd.json_normalize(trends[0]['trends'])\n",
        "df_trends.head()"
      ],
      "execution_count": 50,
      "outputs": [
        {
          "output_type": "execute_result",
          "data": {
            "text/html": [
              "\n",
              "  <div id=\"df-faa75942-420e-43b8-ae61-186007f49f5a\">\n",
              "    <div class=\"colab-df-container\">\n",
              "      <div>\n",
              "<style scoped>\n",
              "    .dataframe tbody tr th:only-of-type {\n",
              "        vertical-align: middle;\n",
              "    }\n",
              "\n",
              "    .dataframe tbody tr th {\n",
              "        vertical-align: top;\n",
              "    }\n",
              "\n",
              "    .dataframe thead th {\n",
              "        text-align: right;\n",
              "    }\n",
              "</style>\n",
              "<table border=\"1\" class=\"dataframe\">\n",
              "  <thead>\n",
              "    <tr style=\"text-align: right;\">\n",
              "      <th></th>\n",
              "      <th>name</th>\n",
              "      <th>url</th>\n",
              "      <th>promoted_content</th>\n",
              "      <th>query</th>\n",
              "      <th>tweet_volume</th>\n",
              "    </tr>\n",
              "  </thead>\n",
              "  <tbody>\n",
              "    <tr>\n",
              "      <th>0</th>\n",
              "      <td>Cuca</td>\n",
              "      <td>http://twitter.com/search?q=Cuca</td>\n",
              "      <td>None</td>\n",
              "      <td>Cuca</td>\n",
              "      <td>23769.0</td>\n",
              "    </tr>\n",
              "    <tr>\n",
              "      <th>1</th>\n",
              "      <td>Jorge Jesus</td>\n",
              "      <td>http://twitter.com/search?q=%22Jorge+Jesus%22</td>\n",
              "      <td>None</td>\n",
              "      <td>%22Jorge+Jesus%22</td>\n",
              "      <td>34505.0</td>\n",
              "    </tr>\n",
              "    <tr>\n",
              "      <th>2</th>\n",
              "      <td>#BolsonaroVagabundo</td>\n",
              "      <td>http://twitter.com/search?q=%23BolsonaroVagabundo</td>\n",
              "      <td>None</td>\n",
              "      <td>%23BolsonaroVagabundo</td>\n",
              "      <td>NaN</td>\n",
              "    </tr>\n",
              "    <tr>\n",
              "      <th>3</th>\n",
              "      <td>Atlético</td>\n",
              "      <td>http://twitter.com/search?q=Atl%C3%A9tico</td>\n",
              "      <td>None</td>\n",
              "      <td>Atl%C3%A9tico</td>\n",
              "      <td>39008.0</td>\n",
              "    </tr>\n",
              "    <tr>\n",
              "      <th>4</th>\n",
              "      <td>Paulo Sousa</td>\n",
              "      <td>http://twitter.com/search?q=%22Paulo+Sousa%22</td>\n",
              "      <td>None</td>\n",
              "      <td>%22Paulo+Sousa%22</td>\n",
              "      <td>34740.0</td>\n",
              "    </tr>\n",
              "  </tbody>\n",
              "</table>\n",
              "</div>\n",
              "      <button class=\"colab-df-convert\" onclick=\"convertToInteractive('df-faa75942-420e-43b8-ae61-186007f49f5a')\"\n",
              "              title=\"Convert this dataframe to an interactive table.\"\n",
              "              style=\"display:none;\">\n",
              "        \n",
              "  <svg xmlns=\"http://www.w3.org/2000/svg\" height=\"24px\"viewBox=\"0 0 24 24\"\n",
              "       width=\"24px\">\n",
              "    <path d=\"M0 0h24v24H0V0z\" fill=\"none\"/>\n",
              "    <path d=\"M18.56 5.44l.94 2.06.94-2.06 2.06-.94-2.06-.94-.94-2.06-.94 2.06-2.06.94zm-11 1L8.5 8.5l.94-2.06 2.06-.94-2.06-.94L8.5 2.5l-.94 2.06-2.06.94zm10 10l.94 2.06.94-2.06 2.06-.94-2.06-.94-.94-2.06-.94 2.06-2.06.94z\"/><path d=\"M17.41 7.96l-1.37-1.37c-.4-.4-.92-.59-1.43-.59-.52 0-1.04.2-1.43.59L10.3 9.45l-7.72 7.72c-.78.78-.78 2.05 0 2.83L4 21.41c.39.39.9.59 1.41.59.51 0 1.02-.2 1.41-.59l7.78-7.78 2.81-2.81c.8-.78.8-2.07 0-2.86zM5.41 20L4 18.59l7.72-7.72 1.47 1.35L5.41 20z\"/>\n",
              "  </svg>\n",
              "      </button>\n",
              "      \n",
              "  <style>\n",
              "    .colab-df-container {\n",
              "      display:flex;\n",
              "      flex-wrap:wrap;\n",
              "      gap: 12px;\n",
              "    }\n",
              "\n",
              "    .colab-df-convert {\n",
              "      background-color: #E8F0FE;\n",
              "      border: none;\n",
              "      border-radius: 50%;\n",
              "      cursor: pointer;\n",
              "      display: none;\n",
              "      fill: #1967D2;\n",
              "      height: 32px;\n",
              "      padding: 0 0 0 0;\n",
              "      width: 32px;\n",
              "    }\n",
              "\n",
              "    .colab-df-convert:hover {\n",
              "      background-color: #E2EBFA;\n",
              "      box-shadow: 0px 1px 2px rgba(60, 64, 67, 0.3), 0px 1px 3px 1px rgba(60, 64, 67, 0.15);\n",
              "      fill: #174EA6;\n",
              "    }\n",
              "\n",
              "    [theme=dark] .colab-df-convert {\n",
              "      background-color: #3B4455;\n",
              "      fill: #D2E3FC;\n",
              "    }\n",
              "\n",
              "    [theme=dark] .colab-df-convert:hover {\n",
              "      background-color: #434B5C;\n",
              "      box-shadow: 0px 1px 3px 1px rgba(0, 0, 0, 0.15);\n",
              "      filter: drop-shadow(0px 1px 2px rgba(0, 0, 0, 0.3));\n",
              "      fill: #FFFFFF;\n",
              "    }\n",
              "  </style>\n",
              "\n",
              "      <script>\n",
              "        const buttonEl =\n",
              "          document.querySelector('#df-faa75942-420e-43b8-ae61-186007f49f5a button.colab-df-convert');\n",
              "        buttonEl.style.display =\n",
              "          google.colab.kernel.accessAllowed ? 'block' : 'none';\n",
              "\n",
              "        async function convertToInteractive(key) {\n",
              "          const element = document.querySelector('#df-faa75942-420e-43b8-ae61-186007f49f5a');\n",
              "          const dataTable =\n",
              "            await google.colab.kernel.invokeFunction('convertToInteractive',\n",
              "                                                     [key], {});\n",
              "          if (!dataTable) return;\n",
              "\n",
              "          const docLinkHtml = 'Like what you see? Visit the ' +\n",
              "            '<a target=\"_blank\" href=https://colab.research.google.com/notebooks/data_table.ipynb>data table notebook</a>'\n",
              "            + ' to learn more about interactive tables.';\n",
              "          element.innerHTML = '';\n",
              "          dataTable['output_type'] = 'display_data';\n",
              "          await google.colab.output.renderOutput(dataTable, element);\n",
              "          const docLink = document.createElement('div');\n",
              "          docLink.innerHTML = docLinkHtml;\n",
              "          element.appendChild(docLink);\n",
              "        }\n",
              "      </script>\n",
              "    </div>\n",
              "  </div>\n",
              "  "
            ],
            "text/plain": [
              "                  name  ... tweet_volume\n",
              "0                 Cuca  ...      23769.0\n",
              "1          Jorge Jesus  ...      34505.0\n",
              "2  #BolsonaroVagabundo  ...          NaN\n",
              "3             Atlético  ...      39008.0\n",
              "4          Paulo Sousa  ...      34740.0\n",
              "\n",
              "[5 rows x 5 columns]"
            ]
          },
          "metadata": {},
          "execution_count": 50
        }
      ]
    },
    {
      "cell_type": "markdown",
      "source": [
        "## Extraindo Dados do Twitter"
      ],
      "metadata": {
        "id": "F-BFxaMv8Wxy"
      }
    },
    {
      "cell_type": "code",
      "metadata": {
        "id": "KAQ7XPrE8f10",
        "colab": {
          "base_uri": "https://localhost:8080/"
        },
        "outputId": "2bca4333-09fb-4049-c151-8f80c7ba147b"
      },
      "source": [
        "# Realizando uma busca de dados pelo Top Trend\n",
        "results = api.search(q='Cuca')\n",
        "\n",
        "# Organizando os dados\n",
        "users = []\n",
        "tweets = []\n",
        "for tweet in results:\n",
        "  users.append(tweet.user.name)\n",
        "  tweets.append(tweet.text)\n",
        "  print(f'User: {tweet.user.name} | Tweet: {tweet.text}')"
      ],
      "execution_count": 37,
      "outputs": [
        {
          "output_type": "stream",
          "name": "stdout",
          "text": [
            "User: @Verainacio44 | Tweet: RT @Falagalo13: ❌ O pedido de demissão do técnico Cuca não surpreendeu a diretoria do @Atletico. A informação que chega, é que o técnico es…\n",
            "User: Maria Rebelo | Tweet: Melhor de todos os tempos. Só atrás de Telê. Obrigada Cuca!!!! https://t.co/dy4ZVdG6OC\n",
            "User: Gilson Luiz | Tweet: @ArnaldoJRibeiro Ja ta tudo desenhado, Jorge Jesus no Flamengo, Galo sem tecnico vai aproveitar que o Paulo Sousa e… https://t.co/uXDYvKtWcQ\n",
            "User: M🅰️theus ⭐⭐ | Tweet: RT @jason13cam: 🐓 Cuca e sua história no GALO\n",
            "\n",
            "⚔️224 jogos\n",
            "✅128 vitórias\n",
            "⏸48 empates \n",
            "❌48 derrotas \n",
            "📊64.2% aproveitamento\n",
            "🏆Libertadores\n",
            "🏆Ca…\n",
            "User: renus | Tweet: Contei pro meu pai que o Cuca saiu do Galo: https://t.co/cF9RLAFdWK\n",
            "User: Adauto Freitas | Tweet: @dieg0gal0 @martinsymiguel Abel Ferreira não colocou ele no bolso porra nenhuma. Você não viu o jogo. So viu o resu… https://t.co/8Y29Cks0we\n",
            "User: Rodrigo Gonçalves | Tweet: O cuca não bate bem da cuca msm 🤦🏻‍♂️\n",
            "User: Kaua | Tweet: RT @thirfernandes: Cuca decide deixar Atlético-MG para tirar ano sabático; Jorge Jesus vira opção\n",
            "\n",
            "Saída do técnico já era conhecimento do…\n",
            "User: Freddieᶜʳᶠ 🇦🇱🇧🇷 | Tweet: Maluco, hoje é dia 28 de dezembro e a torcida tá maluca. Não há torcida mais lelé da cuca igual a nossa.\n",
            "User: 𝙶𝚕𝚊𝚞𝚌𝚒𝚘 𝙼𝚎𝚛𝚕𝚒𝚗 | Tweet: RT @CosenzaGiuliano: Jorge Jesus no Flamengo\n",
            "Paulo Sousa no Atlético\n",
            "Renato Gaúcho no Benfica\n",
            "Cuca na Polônia\n",
            "\n",
            "Problema resolvido\n",
            "User: Chumiga | Tweet: essa do cuca foi de fude\n",
            "User: FORA @marcosbrazrio | Tweet: @ThalesMuniz4 @_FlaDaDepressao Não me surpreenderia ele ter feito esse esforço SÓ após o Flamengo fechar com PS.\n",
            "JJ… https://t.co/xISF6MD8WM\n",
            "User: Tribuna do Sertão | Tweet: Cuca deixa o comando do Atlético-MG por 'problemas familiares', diz rádio. Veja mais em:  - https://t.co/MbBbyMuLJI\n",
            "User: 💀GALO⚡METAL💀 | Tweet: @ohenriqueandre @Atletico Os que estão achando ruim com o Cuca foram os mesmos que não queriam que viesse.\n",
            "User: biel⭐⭐ | Tweet: RT @jason13cam: 🐓 Cuca e sua história no GALO\n",
            "\n",
            "⚔️224 jogos\n",
            "✅128 vitórias\n",
            "⏸48 empates \n",
            "❌48 derrotas \n",
            "📊64.2% aproveitamento\n",
            "🏆Libertadores\n",
            "🏆Ca…\n"
          ]
        }
      ]
    },
    {
      "cell_type": "code",
      "metadata": {
        "id": "Dfo6Tdic8fvR",
        "colab": {
          "base_uri": "https://localhost:8080/",
          "height": 202
        },
        "outputId": "56f83843-2e3b-42e8-e895-3ec83fe904f3"
      },
      "source": [
        "# Montando um dataset com os tweets extraidos do Twitter\n",
        "df_tweets = pd.DataFrame()\n",
        "df_tweets['users'] = users\n",
        "df_tweets['tweets'] = tweets\n",
        "df_tweets.head()"
      ],
      "execution_count": 38,
      "outputs": [
        {
          "output_type": "execute_result",
          "data": {
            "text/html": [
              "\n",
              "  <div id=\"df-2666c267-03cc-4283-9537-275b278af3fa\">\n",
              "    <div class=\"colab-df-container\">\n",
              "      <div>\n",
              "<style scoped>\n",
              "    .dataframe tbody tr th:only-of-type {\n",
              "        vertical-align: middle;\n",
              "    }\n",
              "\n",
              "    .dataframe tbody tr th {\n",
              "        vertical-align: top;\n",
              "    }\n",
              "\n",
              "    .dataframe thead th {\n",
              "        text-align: right;\n",
              "    }\n",
              "</style>\n",
              "<table border=\"1\" class=\"dataframe\">\n",
              "  <thead>\n",
              "    <tr style=\"text-align: right;\">\n",
              "      <th></th>\n",
              "      <th>users</th>\n",
              "      <th>tweets</th>\n",
              "    </tr>\n",
              "  </thead>\n",
              "  <tbody>\n",
              "    <tr>\n",
              "      <th>0</th>\n",
              "      <td>@Verainacio44</td>\n",
              "      <td>RT @Falagalo13: ❌ O pedido de demissão do técn...</td>\n",
              "    </tr>\n",
              "    <tr>\n",
              "      <th>1</th>\n",
              "      <td>Maria Rebelo</td>\n",
              "      <td>Melhor de todos os tempos. Só atrás de Telê. O...</td>\n",
              "    </tr>\n",
              "    <tr>\n",
              "      <th>2</th>\n",
              "      <td>Gilson Luiz</td>\n",
              "      <td>@ArnaldoJRibeiro Ja ta tudo desenhado, Jorge J...</td>\n",
              "    </tr>\n",
              "    <tr>\n",
              "      <th>3</th>\n",
              "      <td>M🅰️theus ⭐⭐</td>\n",
              "      <td>RT @jason13cam: 🐓 Cuca e sua história no GALO\\...</td>\n",
              "    </tr>\n",
              "    <tr>\n",
              "      <th>4</th>\n",
              "      <td>renus</td>\n",
              "      <td>Contei pro meu pai que o Cuca saiu do Galo: ht...</td>\n",
              "    </tr>\n",
              "  </tbody>\n",
              "</table>\n",
              "</div>\n",
              "      <button class=\"colab-df-convert\" onclick=\"convertToInteractive('df-2666c267-03cc-4283-9537-275b278af3fa')\"\n",
              "              title=\"Convert this dataframe to an interactive table.\"\n",
              "              style=\"display:none;\">\n",
              "        \n",
              "  <svg xmlns=\"http://www.w3.org/2000/svg\" height=\"24px\"viewBox=\"0 0 24 24\"\n",
              "       width=\"24px\">\n",
              "    <path d=\"M0 0h24v24H0V0z\" fill=\"none\"/>\n",
              "    <path d=\"M18.56 5.44l.94 2.06.94-2.06 2.06-.94-2.06-.94-.94-2.06-.94 2.06-2.06.94zm-11 1L8.5 8.5l.94-2.06 2.06-.94-2.06-.94L8.5 2.5l-.94 2.06-2.06.94zm10 10l.94 2.06.94-2.06 2.06-.94-2.06-.94-.94-2.06-.94 2.06-2.06.94z\"/><path d=\"M17.41 7.96l-1.37-1.37c-.4-.4-.92-.59-1.43-.59-.52 0-1.04.2-1.43.59L10.3 9.45l-7.72 7.72c-.78.78-.78 2.05 0 2.83L4 21.41c.39.39.9.59 1.41.59.51 0 1.02-.2 1.41-.59l7.78-7.78 2.81-2.81c.8-.78.8-2.07 0-2.86zM5.41 20L4 18.59l7.72-7.72 1.47 1.35L5.41 20z\"/>\n",
              "  </svg>\n",
              "      </button>\n",
              "      \n",
              "  <style>\n",
              "    .colab-df-container {\n",
              "      display:flex;\n",
              "      flex-wrap:wrap;\n",
              "      gap: 12px;\n",
              "    }\n",
              "\n",
              "    .colab-df-convert {\n",
              "      background-color: #E8F0FE;\n",
              "      border: none;\n",
              "      border-radius: 50%;\n",
              "      cursor: pointer;\n",
              "      display: none;\n",
              "      fill: #1967D2;\n",
              "      height: 32px;\n",
              "      padding: 0 0 0 0;\n",
              "      width: 32px;\n",
              "    }\n",
              "\n",
              "    .colab-df-convert:hover {\n",
              "      background-color: #E2EBFA;\n",
              "      box-shadow: 0px 1px 2px rgba(60, 64, 67, 0.3), 0px 1px 3px 1px rgba(60, 64, 67, 0.15);\n",
              "      fill: #174EA6;\n",
              "    }\n",
              "\n",
              "    [theme=dark] .colab-df-convert {\n",
              "      background-color: #3B4455;\n",
              "      fill: #D2E3FC;\n",
              "    }\n",
              "\n",
              "    [theme=dark] .colab-df-convert:hover {\n",
              "      background-color: #434B5C;\n",
              "      box-shadow: 0px 1px 3px 1px rgba(0, 0, 0, 0.15);\n",
              "      filter: drop-shadow(0px 1px 2px rgba(0, 0, 0, 0.3));\n",
              "      fill: #FFFFFF;\n",
              "    }\n",
              "  </style>\n",
              "\n",
              "      <script>\n",
              "        const buttonEl =\n",
              "          document.querySelector('#df-2666c267-03cc-4283-9537-275b278af3fa button.colab-df-convert');\n",
              "        buttonEl.style.display =\n",
              "          google.colab.kernel.accessAllowed ? 'block' : 'none';\n",
              "\n",
              "        async function convertToInteractive(key) {\n",
              "          const element = document.querySelector('#df-2666c267-03cc-4283-9537-275b278af3fa');\n",
              "          const dataTable =\n",
              "            await google.colab.kernel.invokeFunction('convertToInteractive',\n",
              "                                                     [key], {});\n",
              "          if (!dataTable) return;\n",
              "\n",
              "          const docLinkHtml = 'Like what you see? Visit the ' +\n",
              "            '<a target=\"_blank\" href=https://colab.research.google.com/notebooks/data_table.ipynb>data table notebook</a>'\n",
              "            + ' to learn more about interactive tables.';\n",
              "          element.innerHTML = '';\n",
              "          dataTable['output_type'] = 'display_data';\n",
              "          await google.colab.output.renderOutput(dataTable, element);\n",
              "          const docLink = document.createElement('div');\n",
              "          docLink.innerHTML = docLinkHtml;\n",
              "          element.appendChild(docLink);\n",
              "        }\n",
              "      </script>\n",
              "    </div>\n",
              "  </div>\n",
              "  "
            ],
            "text/plain": [
              "           users                                             tweets\n",
              "0  @Verainacio44  RT @Falagalo13: ❌ O pedido de demissão do técn...\n",
              "1   Maria Rebelo  Melhor de todos os tempos. Só atrás de Telê. O...\n",
              "2    Gilson Luiz  @ArnaldoJRibeiro Ja ta tudo desenhado, Jorge J...\n",
              "3    M🅰️theus ⭐⭐  RT @jason13cam: 🐓 Cuca e sua história no GALO\\...\n",
              "4          renus  Contei pro meu pai que o Cuca saiu do Galo: ht..."
            ]
          },
          "metadata": {},
          "execution_count": 38
        }
      ]
    },
    {
      "cell_type": "code",
      "metadata": {
        "id": "ogh-qL6f8fs2"
      },
      "source": [
        ""
      ],
      "execution_count": 35,
      "outputs": []
    }
  ]
}